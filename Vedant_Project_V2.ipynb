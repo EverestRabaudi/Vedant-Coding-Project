{
  "nbformat": 4,
  "nbformat_minor": 0,
  "metadata": {
    "colab": {
      "provenance": [],
      "include_colab_link": true
    },
    "kernelspec": {
      "name": "python3",
      "display_name": "Python 3"
    },
    "language_info": {
      "name": "python"
    }
  },
  "cells": [
    {
      "cell_type": "markdown",
      "metadata": {
        "id": "view-in-github",
        "colab_type": "text"
      },
      "source": [
        "<a href=\"https://colab.research.google.com/github/EverestRabaudi/Vedant-Coding-Project/blob/main/Vedant_Project_V2.ipynb\" target=\"_parent\"><img src=\"https://colab.research.google.com/assets/colab-badge.svg\" alt=\"Open In Colab\"/></a>"
      ]
    },
    {
      "cell_type": "code",
      "execution_count": null,
      "metadata": {
        "id": "a9PRpLQvMk--"
      },
      "outputs": [],
      "source": [
        "import pandas as pd\n",
        "import numpy as np\n",
        "from sklearn.model_selection import train_test_split\n",
        "from sklearn.ensemble import RandomForestRegressor\n",
        "from sklearn.metrics import mean_squared_error"
      ]
    },
    {
      "cell_type": "code",
      "source": [
        "data = {\n",
        "    'SEASON': ['2015-16', '2016-17', '2017-18', '2018-19', '2019-20', '2020-21', '2021-22', '2022-23', '2023-24'],\n",
        "    'GP': [80, 73, 75, 80, 73, 72, 74, 69, 79],\n",
        "    'GS': [55, 59, 73, 80, 73, 72, 74, 69, 79],\n",
        "    'MIN': [21.7, 27.9, 32.5, 31.3, 32.0, 34.6, 33.5, 33.7, 34.6],\n",
        "    'FG': [(3.8, 7.5), (6.8, 11.7), (6.7, 13.5), (7.7, 15.1), (7.7, 14.7), (10.2, 18.0), (10.3, 17.7), (9.4, 14.8), (10.4, 17.9)],\n",
        "    'FG%': [51.2, 57.8, 49.9, 51.1, 52.8, 56.6, 58.3, 63.2, 58.3],\n",
        "    '3PT': [(0.4, 1.1), (0.6, 1.9), (1.5, 3.7), (1.0, 3.4), (1.1, 3.5), (1.3, 3.3), (1.3, 3.9), (0.8, 2.2), (1.1, 2.9)],\n",
        "    '3P%': [33.3, 32.4, 39.6, 30.7, 31.4, 38.8, 33.7, 38.3, 35.9],\n",
        "    'FT': [(1.9, 2.4), (2.6, 3.1), (3.5, 4.2), (3.6, 4.4), (3.4, 4.1), (4.8, 5.5), (5.1, 6.3), (4.9, 6.0), (4.5, 5.5)],\n",
        "    'FT%': [81.1, 82.5, 85.0, 82.1, 81.7, 86.8, 81.0, 82.2, 81.7],\n",
        "    'OR': [2.3, 2.9, 2.6, 2.9, 2.3, 2.8, 2.8, 2.4, 2.8],\n",
        "    'DR': [4.7, 6.9, 8.1, 8.0, 7.5, 8.0, 11.0, 9.4, 9.5],\n",
        "    'REB': [7.0, 9.8, 10.7, 10.8, 9.7, 10.8, 13.8, 11.8, 12.4],\n",
        "    'AST': [2.4, 4.9, 6.1, 7.3, 7.0, 8.3, 7.9, 9.8, 9.0],\n",
        "    'BLK': [0.6, 0.8, 0.8, 0.7, 0.6, 0.7, 0.9, 0.7, 0.9],\n",
        "    'STL': [1.0, 0.8, 1.2, 1.4, 1.2, 1.3, 1.5, 1.3, 1.4],\n",
        "    'PF': [2.6, 2.9, 2.8, 2.9, 3.0, 2.7, 2.6, 2.5, 2.5],\n",
        "    'TO': [1.3, 2.3, 2.8, 3.1, 3.1, 3.1, 3.8, 3.6, 3.0],\n",
        "    'PTS': [10.0, 16.7, 18.5, 20.1, 19.9, 26.4, 27.1, 24.5, 26.0]\n",
        "}\n",
        "\n",
        "df = pd.DataFrame(data)"
      ],
      "metadata": {
        "id": "FlgmHJtcMwi4"
      },
      "execution_count": null,
      "outputs": []
    },
    {
      "cell_type": "code",
      "source": [
        "df[['FG_Made', 'FG_Att']] = pd.DataFrame(df['FG'].tolist(), index=df.index)\n",
        "df[['3PT_Made', '3PT_Att']] = pd.DataFrame(df['3PT'].tolist(), index=df.index)\n",
        "df[['FT_Made', 'FT_Att']] = pd.DataFrame(df['FT'].tolist(), index=df.index)\n",
        "df.drop(columns=['FG', '3PT', 'FT'], inplace=True)"
      ],
      "metadata": {
        "id": "oHPqXWf2M0rB"
      },
      "execution_count": null,
      "outputs": []
    },
    {
      "cell_type": "code",
      "source": [
        "df['SEASON'] = df['SEASON'].str.split('-', expand=True)[0].astype(int)"
      ],
      "metadata": {
        "id": "6HYlN-vuM6cg"
      },
      "execution_count": null,
      "outputs": []
    },
    {
      "cell_type": "code",
      "source": [
        "lower_bound = int(len(df) * 0.2)\n",
        "upper_bound = int(len(df) * 0.9)\n",
        "filtered_df = df.iloc[lower_bound:upper_bound]"
      ],
      "metadata": {
        "id": "0fxqBKVz4VJP"
      },
      "execution_count": null,
      "outputs": []
    },
    {
      "cell_type": "code",
      "source": [
        "features = ['SEASON', 'GP', 'GS', 'MIN', 'FG_Made', 'FG_Att', 'FG%', '3PT_Made', '3PT_Att', '3P%', 'FT_Made', 'FT_Att', 'FT%', 'OR', 'DR', 'BLK', 'STL', 'PF', 'TO']\n",
        "targets = ['PTS', 'REB', 'AST']\n",
        "models = {}\n",
        "mse_scores = {}"
      ],
      "metadata": {
        "id": "R5wxMvp3M7lX"
      },
      "execution_count": null,
      "outputs": []
    },
    {
      "cell_type": "code",
      "source": [
        "for target in targets:\n",
        "    X = filtered_df[features]\n",
        "    y = filtered_df[target]\n",
        "\n",
        "    X_train, X_test, y_train, y_test = train_test_split(X, y, test_size=0.2, random_state=42)\n",
        "\n",
        "    model = RandomForestRegressor(n_estimators=100, random_state=42)\n",
        "    model.fit(X_train, y_train)\n",
        "\n",
        "    y_pred = model.predict(X_test)\n",
        "    mse = mean_squared_error(y_test, y_pred)\n",
        "    mse_scores[target] = mse\n",
        "    models[target] = model\n",
        "\n",
        "    print(f\"Mean Squared Error for {target}: {mse}\")"
      ],
      "metadata": {
        "id": "6CkZmBICM9iW",
        "colab": {
          "base_uri": "https://localhost:8080/"
        },
        "outputId": "3c1873ca-b28f-4106-f94d-1898e63bf828"
      },
      "execution_count": null,
      "outputs": [
        {
          "output_type": "stream",
          "name": "stdout",
          "text": [
            "Mean Squared Error for PTS: 22.59967450000008\n",
            "Mean Squared Error for REB: 0.5621904999999938\n",
            "Mean Squared Error for AST: 6.341919999999954\n"
          ]
        }
      ]
    },
    {
      "cell_type": "code",
      "source": [
        "next_season = pd.DataFrame({\n",
        "    'SEASON': [2024],\n",
        "    'GP': [df['GP'].mean()],\n",
        "    'GS': [df['GS'].mean()],\n",
        "    'MIN': [df['MIN'].mean()],\n",
        "    'FG_Made': [df['FG_Made'].mean()],\n",
        "    'FG_Att': [df['FG_Att'].mean()],\n",
        "    'FG%': [df['FG%'].mean()],\n",
        "    '3PT_Made': [df['3PT_Made'].mean()],\n",
        "    '3PT_Att': [df['3PT_Att'].mean()],\n",
        "    '3P%': [df['3P%'].mean()],\n",
        "    'FT_Made': [df['FT_Made'].mean()],\n",
        "    'FT_Att': [df['FT_Att'].mean()],\n",
        "    'FT%': [df['FT%'].mean()],\n",
        "    'OR': [df['OR'].mean()],\n",
        "    'DR': [df['DR'].mean()],\n",
        "    'BLK': [df['BLK'].mean()],\n",
        "    'STL': [df['STL'].mean()],\n",
        "    'PF': [df['PF'].mean()],\n",
        "    'TO': [df['TO'].mean()]\n",
        "})\n",
        "\n",
        "for target in targets:\n",
        "    prediction = models[target].predict(next_season)\n",
        "    print(f\"Predicted {target} for the 2024-25 season: {prediction[0]}\")"
      ],
      "metadata": {
        "id": "CUGU__ntM_ux",
        "colab": {
          "base_uri": "https://localhost:8080/"
        },
        "outputId": "ef93661c-348c-4fa0-9551-5c0bb56229cd"
      },
      "execution_count": null,
      "outputs": [
        {
          "output_type": "stream",
          "name": "stdout",
          "text": [
            "Predicted PTS for the 2024-25 season: 23.567000000000004\n",
            "Predicted REB for the 2024-25 season: 10.855999999999993\n",
            "Predicted AST for the 2024-25 season: 8.146999999999988\n"
          ]
        }
      ]
    }
  ]
}